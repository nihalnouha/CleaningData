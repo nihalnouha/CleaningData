{
 "cells": [
  {
   "cell_type": "code",
   "execution_count": 21,
   "id": "d0f050c0-c343-4611-829f-a07dfbf205d2",
   "metadata": {},
   "outputs": [
    {
     "name": "stdout",
     "output_type": "stream",
     "text": [
      "     PassengerId  Survived  Pclass  \\\n",
      "0              1         0       3   \n",
      "1              2         1       1   \n",
      "2              3         1       3   \n",
      "3              4         1       1   \n",
      "4              5         0       3   \n",
      "..           ...       ...     ...   \n",
      "886          887         0       2   \n",
      "887          888         1       1   \n",
      "888          889         0       3   \n",
      "889          890         1       1   \n",
      "890          891         0       3   \n",
      "\n",
      "                                                  Name     Sex   Age  SibSp  \\\n",
      "0                              Braund, Mr. Owen Harris    male  22.0      1   \n",
      "1    Cumings, Mrs. John Bradley (Florence Briggs Th...  female  38.0      1   \n",
      "2                               Heikkinen, Miss. Laina  female  26.0      0   \n",
      "3         Futrelle, Mrs. Jacques Heath (Lily May Peel)  female  35.0      1   \n",
      "4                             Allen, Mr. William Henry    male  35.0      0   \n",
      "..                                                 ...     ...   ...    ...   \n",
      "886                              Montvila, Rev. Juozas    male  27.0      0   \n",
      "887                       Graham, Miss. Margaret Edith  female  19.0      0   \n",
      "888           Johnston, Miss. Catherine Helen \"Carrie\"  female   NaN      1   \n",
      "889                              Behr, Mr. Karl Howell    male  26.0      0   \n",
      "890                                Dooley, Mr. Patrick    male  32.0      0   \n",
      "\n",
      "     Parch            Ticket     Fare Cabin Embarked  \n",
      "0        0         A/5 21171   7.2500   NaN        S  \n",
      "1        0          PC 17599  71.2833   C85        C  \n",
      "2        0  STON/O2. 3101282   7.9250   NaN        S  \n",
      "3        0            113803  53.1000  C123        S  \n",
      "4        0            373450   8.0500   NaN        S  \n",
      "..     ...               ...      ...   ...      ...  \n",
      "886      0            211536  13.0000   NaN        S  \n",
      "887      0            112053  30.0000   B42        S  \n",
      "888      2        W./C. 6607  23.4500   NaN        S  \n",
      "889      0            111369  30.0000  C148        C  \n",
      "890      0            370376   7.7500   NaN        Q  \n",
      "\n",
      "[891 rows x 12 columns]\n"
     ]
    }
   ],
   "source": [
    "import pandas as pd\n",
    "\n",
    "# Load the dataset into a DataFrame\n",
    "df = pd.read_csv('train.csv')\n",
    "print(df)"
   ]
  },
  {
   "cell_type": "code",
   "execution_count": 15,
   "id": "1ca36899-3564-4a19-ae32-c75a4fc800c9",
   "metadata": {},
   "outputs": [],
   "source": [
    "# Drop rows with missing values\n",
    "df.dropna(inplace=True)\n",
    "\n",
    "# Or impute missing values with mean, median, or mode\n",
    "# For example, to impute missing values with mean\n",
    "# Fill missing values with the mean of numeric columns\n",
    "df_numeric = df.select_dtypes(include='number')\n",
    "df_numeric.fillna(df_numeric.mean(), inplace=True)\n"
   ]
  },
  {
   "cell_type": "code",
   "execution_count": 16,
   "id": "5234007a-4427-4936-8739-c66a3745ba5a",
   "metadata": {},
   "outputs": [],
   "source": [
    "# Calculate z-score for each numeric column\n",
    "from scipy import stats\n",
    "\n",
    "z_scores = stats.zscore(df.select_dtypes(include='number'))\n",
    "\n",
    "# Define a threshold for z-score (e.g., 3)\n",
    "threshold = 3\n",
    "\n",
    "# Remove rows with outliers\n",
    "df_cleaned = df[(z_scores < threshold).all(axis=1)]\n"
   ]
  },
  {
   "cell_type": "code",
   "execution_count": 20,
   "id": "28d15e7d-0a5d-4d25-a613-630a1a74c48e",
   "metadata": {},
   "outputs": [
    {
     "name": "stdout",
     "output_type": "stream",
     "text": [
      "     PassengerId  Survived  Pclass  \\\n",
      "0              2         1       1   \n",
      "1              4         1       1   \n",
      "2              7         0       1   \n",
      "3             12         1       1   \n",
      "4             22         1       2   \n",
      "..           ...       ...     ...   \n",
      "162          872         1       1   \n",
      "163          873         0       1   \n",
      "164          880         1       1   \n",
      "165          888         1       1   \n",
      "166          890         1       1   \n",
      "\n",
      "                                                  Name     Sex   Age  SibSp  \\\n",
      "0    Cumings, Mrs. John Bradley (Florence Briggs Th...  female  38.0      1   \n",
      "1         Futrelle, Mrs. Jacques Heath (Lily May Peel)  female  35.0      1   \n",
      "2                              McCarthy, Mr. Timothy J    male  54.0      0   \n",
      "3                             Bonnell, Miss. Elizabeth  female  58.0      0   \n",
      "4                                Beesley, Mr. Lawrence    male  34.0      0   \n",
      "..                                                 ...     ...   ...    ...   \n",
      "162   Beckwith, Mrs. Richard Leonard (Sallie Monypeny)  female  47.0      1   \n",
      "163                           Carlsson, Mr. Frans Olof    male  33.0      0   \n",
      "164      Potter, Mrs. Thomas Jr (Lily Alexenia Wilson)  female  56.0      0   \n",
      "165                       Graham, Miss. Margaret Edith  female  19.0      0   \n",
      "166                              Behr, Mr. Karl Howell    male  26.0      0   \n",
      "\n",
      "     Parch    Ticket     Fare        Cabin Embarked  \n",
      "0        0  PC 17599  71.2833          C85        C  \n",
      "1        0    113803  53.1000         C123        S  \n",
      "2        0     17463  51.8625          E46        S  \n",
      "3        0    113783  26.5500         C103        S  \n",
      "4        0    248698  13.0000          D56        S  \n",
      "..     ...       ...      ...          ...      ...  \n",
      "162      1     11751  52.5542          D35        S  \n",
      "163      0       695   5.0000  B51 B53 B55        S  \n",
      "164      1     11767  83.1583          C50        C  \n",
      "165      0    112053  30.0000          B42        S  \n",
      "166      0    111369  30.0000         C148        C  \n",
      "\n",
      "[167 rows x 12 columns]\n"
     ]
    }
   ],
   "source": [
    "# Save the cleaned dataset to a new CSV file\n",
    "df_cleaned.to_csv('cleaned_dataset.csv', index=False)\n",
    "#df_cleaned = pd.read_csv('cleaned_dataset.csv')\n",
    "print(df_cleaned)"
   ]
  }
 ],
 "metadata": {
  "kernelspec": {
   "display_name": "Python 3 (ipykernel)",
   "language": "python",
   "name": "python3"
  },
  "language_info": {
   "codemirror_mode": {
    "name": "ipython",
    "version": 3
   },
   "file_extension": ".py",
   "mimetype": "text/x-python",
   "name": "python",
   "nbconvert_exporter": "python",
   "pygments_lexer": "ipython3",
   "version": "3.11.7"
  }
 },
 "nbformat": 4,
 "nbformat_minor": 5
}
